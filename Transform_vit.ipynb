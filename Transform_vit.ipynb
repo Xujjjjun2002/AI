{
  "nbformat": 4,
  "nbformat_minor": 0,
  "metadata": {
    "colab": {
      "provenance": [],
      "authorship_tag": "ABX9TyPrrvwrKLVkJqK7c6iHMnLX",
      "include_colab_link": true
    },
    "kernelspec": {
      "name": "python3",
      "display_name": "Python 3"
    },
    "language_info": {
      "name": "python"
    }
  },
  "cells": [
    {
      "cell_type": "markdown",
      "metadata": {
        "id": "view-in-github",
        "colab_type": "text"
      },
      "source": [
        "<a href=\"https://colab.research.google.com/github/Xujjjjun2002/AI/blob/main/Transform_vit.ipynb\" target=\"_parent\"><img src=\"https://colab.research.google.com/assets/colab-badge.svg\" alt=\"Open In Colab\"/></a>"
      ]
    },
    {
      "cell_type": "markdown",
      "source": [
        "# Vision Transformer"
      ],
      "metadata": {
        "id": "DkpK3xbq9PYN"
      }
    },
    {
      "cell_type": "markdown",
      "source": [
        "代码出自：[Vit-pytorch](https://github.com/lucidrains/vit-pytorch)"
      ],
      "metadata": {
        "id": "wtZqZE059Uqv"
      }
    },
    {
      "cell_type": "markdown",
      "source": [
        "## 代码分析"
      ],
      "metadata": {
        "id": "_T17T2jroAbG"
      }
    },
    {
      "cell_type": "markdown",
      "source": [
        "### 图像拆分重排"
      ],
      "metadata": {
        "id": "fWtVJDiCnnXn"
      }
    },
    {
      "cell_type": "code",
      "source": [
        "self.to_patch_embedding = nn.Sequential(\n",
        "            Rearrange('b c (h p1) (w p2) -> b (h w) (p1 p2 c)', p1 = patch_height, p2 = patch_width), # 要熟悉这个函数的用法(from einops.layers.torch import Rearrange)\n",
        "            nn.LayerNorm(patch_dim),\n",
        "            nn.Linear(patch_dim, dim),\n",
        "            nn.LayerNorm(dim),\n",
        "           )"
      ],
      "metadata": {
        "id": "aG8tBAtUn7PT"
      },
      "execution_count": null,
      "outputs": []
    },
    {
      "cell_type": "markdown",
      "source": [
        "### Class Token的处理"
      ],
      "metadata": {
        "id": "fNY6DBEiv4Ps"
      }
    },
    {
      "cell_type": "code",
      "source": [
        "self.cls_token = nn.Parameter(torch.randn(1, 1, dim))   #随机初始化\n",
        "\n",
        "cls_tokens = repeat(self.cls_token, '1 1 d -> b 1 d', b = b) #batch中每张图都有相同的cls_tokens\n",
        "\n",
        "x = torch.cat((cls_tokens, x), dim=1)  #cat到x上去"
      ],
      "metadata": {
        "id": "mOr2MPJhwPMI"
      },
      "execution_count": null,
      "outputs": []
    },
    {
      "cell_type": "markdown",
      "source": [
        "### Position Embedding的处理"
      ],
      "metadata": {
        "id": "sn9qmWf-yBcx"
      }
    },
    {
      "cell_type": "code",
      "source": [
        "self.pos_embedding = nn.Parameter(torch.randn(1, num_patches + 1, dim)) #从0开始初始化\n",
        "\n",
        "x += self.pos_embedding[:, :(n + 1)]       #直接相加\n",
        "                #（n就是不同的patch数，b, n, _ = x.shape）\n",
        "#x += self.pos_embedding 这行代码一样可以运行"
      ],
      "metadata": {
        "id": "wwBbdHm7yGkc"
      },
      "execution_count": null,
      "outputs": []
    },
    {
      "cell_type": "markdown",
      "source": [
        "### 到此输入端完毕，注意到Class Token和Position Embedding都是可学习的"
      ],
      "metadata": {
        "id": "hYC26Jze0Isx"
      }
    },
    {
      "cell_type": "markdown",
      "source": [
        "### 以下为Transform的过程"
      ],
      "metadata": {
        "id": "xyDFMGME1Jme"
      }
    },
    {
      "cell_type": "markdown",
      "source": [
        "### TransFormer"
      ],
      "metadata": {
        "id": "3j6czBAx3k9S"
      }
    },
    {
      "cell_type": "code",
      "source": [
        "class Transformer(nn.Module):\n",
        "    def __init__(self, dim, depth, heads, dim_head, mlp_dim, dropout = 0.):\n",
        "        super().__init__()\n",
        "        self.layers = nn.ModuleList([])\n",
        "        for _ in range(depth):  #函数构成的二维序列\n",
        "            self.layers.append(nn.ModuleList([\n",
        "                PreNorm(dim, Attention(dim, heads = heads, dim_head = dim_head, dropout = dropout)),\n",
        "                PreNorm(dim, FeedForward(dim, mlp_dim, dropout = dropout))\n",
        "            ]))\n",
        "    def forward(self, x):  #反复调用Attention和MLP函数，并进行PreNorm\n",
        "        for attn, ff in self.layers:\n",
        "            x = attn(x) + x\n",
        "            x = ff(x) + x\n",
        "        return x"
      ],
      "metadata": {
        "id": "IPAZz7Ll3n4P"
      },
      "execution_count": null,
      "outputs": []
    },
    {
      "cell_type": "markdown",
      "source": [
        "![QQ截图20230716165105.png](data:image/png;base64,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)"
      ],
      "metadata": {
        "id": "4OBEIl_t5ZG9"
      }
    },
    {
      "cell_type": "markdown",
      "source": [
        "### MultiHead Attention"
      ],
      "metadata": {
        "id": "CBFV2_X36Mcy"
      }
    },
    {
      "cell_type": "code",
      "source": [
        "class Attention(nn.Module):\n",
        "    def __init__(self, dim, heads = 8, dim_head = 64, dropout = 0.):\n",
        "        super().__init__()\n",
        "        inner_dim = dim_head *  heads\n",
        "        project_out = not (heads == 1 and dim_head == dim)\n",
        "\n",
        "        self.heads = heads\n",
        "        self.scale = dim_head ** -0.5\n",
        "\n",
        "        self.attend = nn.Softmax(dim = -1)\n",
        "        self.dropout = nn.Dropout(dropout)\n",
        "\n",
        "        self.to_qkv = nn.Linear(dim, inner_dim * 3, bias = False)\n",
        "        self.to_out = nn.Sequential(\n",
        "            nn.Linear(inner_dim, dim),\n",
        "            nn.Dropout(dropout)\n",
        "        ) if project_out else nn.Identity()\n",
        "\n",
        "    def forward(self, x):\n",
        "        qkv = self.to_qkv(x).chunk(3, dim = -1)\n",
        "        print('qkv.shape =',qkv.shape)\n",
        "        q, k, v = map(lambda t: rearrange(t, 'b n (h d) -> b h n d', h = self.heads), qkv)\n",
        "        print('q.shape',q.shape)\n",
        "        dots = torch.matmul(q, k.transpose(-1, -2)) * self.scale\n",
        "\n",
        "        attn = self.attend(dots)\n",
        "        attn = self.dropout(attn)\n",
        "\n",
        "        out = torch.matmul(attn, v)\n",
        "        out = rearrange(out, 'b h n d -> b n (h d)')\n",
        "        return self.to_out(out)"
      ],
      "metadata": {
        "id": "nmBa0gc06OJL"
      },
      "execution_count": null,
      "outputs": []
    },
    {
      "cell_type": "markdown",
      "source": [
        "### MLP"
      ],
      "metadata": {
        "id": "i9l-xcA16YFn"
      }
    },
    {
      "cell_type": "code",
      "source": [
        "class FeedForward(nn.Module): ##两个线性层\n",
        "    def __init__(self, dim, hidden_dim, dropout = 0.):\n",
        "        super().__init__()\n",
        "        self.net = nn.Sequential(\n",
        "            nn.Linear(dim, hidden_dim),\n",
        "            nn.GELU(),  ##注意一下GELU函数\n",
        "            nn.Dropout(dropout),\n",
        "            nn.Linear(hidden_dim, dim),\n",
        "            nn.Dropout(dropout)\n",
        "        )\n",
        "    def forward(self, x):\n",
        "        return self.net(x)"
      ],
      "metadata": {
        "id": "fOi3SnCc6Z8H"
      },
      "execution_count": null,
      "outputs": []
    },
    {
      "cell_type": "markdown",
      "source": [
        "## 完整代码"
      ],
      "metadata": {
        "id": "SCf4VJFsxwVK"
      }
    },
    {
      "cell_type": "code",
      "source": [
        "!pip install einops"
      ],
      "metadata": {
        "colab": {
          "base_uri": "https://localhost:8080/"
        },
        "id": "octx-GBc1EEz",
        "outputId": "0bb77933-89de-46a4-b99b-072459e6c631"
      },
      "execution_count": null,
      "outputs": [
        {
          "output_type": "stream",
          "name": "stdout",
          "text": [
            "Collecting einops\n",
            "  Downloading einops-0.6.1-py3-none-any.whl (42 kB)\n",
            "\u001b[?25l     \u001b[90m━━━━━━━━━━━━━━━━━━━━━━━━━━━━━━━━━━━━━━━━\u001b[0m \u001b[32m0.0/42.2 kB\u001b[0m \u001b[31m?\u001b[0m eta \u001b[36m-:--:--\u001b[0m\r\u001b[2K     \u001b[90m━━━━━━━━━━━━━━━━━━━━━━━━━━━━━━━━━━━━━━━━\u001b[0m \u001b[32m42.2/42.2 kB\u001b[0m \u001b[31m4.7 MB/s\u001b[0m eta \u001b[36m0:00:00\u001b[0m\n",
            "\u001b[?25hInstalling collected packages: einops\n",
            "Successfully installed einops-0.6.1\n"
          ]
        }
      ]
    },
    {
      "cell_type": "code",
      "execution_count": null,
      "metadata": {
        "id": "GeThywk5wHAP"
      },
      "outputs": [],
      "source": [
        "import torch\n",
        "from torch import nn\n",
        "\n",
        "from einops import rearrange, repeat\n",
        "from einops.layers.torch import Rearrange\n",
        "\n",
        "# helpers\n",
        "\n",
        "def pair(t):\n",
        "    return t if isinstance(t, tuple) else (t, t)\n",
        "\n",
        "# classes\n",
        "\n",
        "class PreNorm(nn.Module):\n",
        "    def __init__(self, dim, fn):\n",
        "        super().__init__()\n",
        "        self.norm = nn.LayerNorm(dim)\n",
        "        self.fn = fn\n",
        "    def forward(self, x, **kwargs):\n",
        "        return self.fn(self.norm(x), **kwargs)\n",
        "\n",
        "class FeedForward(nn.Module):\n",
        "    def __init__(self, dim, hidden_dim, dropout = 0.):\n",
        "        super().__init__()\n",
        "        self.net = nn.Sequential(\n",
        "            nn.Linear(dim, hidden_dim),\n",
        "            nn.GELU(),\n",
        "            nn.Dropout(dropout),\n",
        "            nn.Linear(hidden_dim, dim),\n",
        "            nn.Dropout(dropout)\n",
        "        )\n",
        "    def forward(self, x):\n",
        "        return self.net(x)\n",
        "\n",
        "class Attention(nn.Module):\n",
        "    def __init__(self, dim, heads = 8, dim_head = 64, dropout = 0.):\n",
        "        super().__init__()\n",
        "        inner_dim = dim_head *  heads\n",
        "        project_out = not (heads == 1 and dim_head == dim)\n",
        "\n",
        "        self.heads = heads\n",
        "        self.scale = dim_head ** -0.5\n",
        "\n",
        "        self.attend = nn.Softmax(dim = -1)\n",
        "        self.dropout = nn.Dropout(dropout)\n",
        "\n",
        "        self.to_qkv = nn.Linear(dim, inner_dim * 3, bias = False)\n",
        "\n",
        "        self.to_out = nn.Sequential(\n",
        "            nn.Linear(inner_dim, dim),\n",
        "            nn.Dropout(dropout)\n",
        "        ) if project_out else nn.Identity()\n",
        "\n",
        "    def forward(self, x):\n",
        "        qkv = self.to_qkv(x).chunk(3, dim = -1)\n",
        "\n",
        "        q, k, v = map(lambda t: rearrange(t, 'b n (h d) -> b h n d', h = self.heads), qkv)\n",
        "        print('q.shape',q.shape)\n",
        "        dots = torch.matmul(q, k.transpose(-1, -2)) * self.scale\n",
        "\n",
        "        attn = self.attend(dots)\n",
        "        attn = self.dropout(attn)\n",
        "\n",
        "        out = torch.matmul(attn, v)\n",
        "        out = rearrange(out, 'b h n d -> b n (h d)')\n",
        "        return self.to_out(out)\n",
        "\n",
        "class Transformer(nn.Module):\n",
        "    def __init__(self, dim, depth, heads, dim_head, mlp_dim, dropout = 0.):\n",
        "        super().__init__()\n",
        "        self.layers = nn.ModuleList([])\n",
        "        for _ in range(depth):\n",
        "            self.layers.append(nn.ModuleList([\n",
        "                PreNorm(dim, Attention(dim, heads = heads, dim_head = dim_head, dropout = dropout)),\n",
        "                PreNorm(dim, FeedForward(dim, mlp_dim, dropout = dropout))\n",
        "            ]))\n",
        "    def forward(self, x):\n",
        "        for attn, ff in self.layers:\n",
        "            x = attn(x) + x\n",
        "            x = ff(x) + x\n",
        "        return x\n",
        "\n",
        "class ViT(nn.Module):\n",
        "    def __init__(self, *, image_size, patch_size, num_classes, dim, depth, heads, mlp_dim, pool = 'cls', channels = 3, dim_head = 64, dropout = 0., emb_dropout = 0.):\n",
        "        super().__init__()\n",
        "        image_height, image_width = pair(image_size)\n",
        "        patch_height, patch_width = pair(patch_size)\n",
        "\n",
        "        assert image_height % patch_height == 0 and image_width % patch_width == 0, 'Image dimensions must be divisible by the patch size.'\n",
        "\n",
        "        num_patches = (image_height // patch_height) * (image_width // patch_width)\n",
        "        patch_dim = channels * patch_height * patch_width\n",
        "        assert pool in {'cls', 'mean'}, 'pool type must be either cls (cls token) or mean (mean pooling)'\n",
        "\n",
        "        self.to_patch_embedding = nn.Sequential(\n",
        "            Rearrange('b c (h p1) (w p2) -> b (h w) (p1 p2 c)', p1 = patch_height, p2 = patch_width),\n",
        "            nn.LayerNorm(patch_dim),\n",
        "            nn.Linear(patch_dim, dim),\n",
        "            nn.LayerNorm(dim),\n",
        "        )\n",
        "\n",
        "        self.pos_embedding = nn.Parameter(torch.randn(1, num_patches + 1, dim))\n",
        "        self.cls_token = nn.Parameter(torch.randn(1, 1, dim))\n",
        "        self.dropout = nn.Dropout(emb_dropout)\n",
        "\n",
        "        self.transformer = Transformer(dim, depth, heads, dim_head, mlp_dim, dropout)\n",
        "\n",
        "        self.pool = pool\n",
        "        self.to_latent = nn.Identity()\n",
        "\n",
        "        self.mlp_head = nn.Sequential(\n",
        "            nn.LayerNorm(dim),\n",
        "            nn.Linear(dim, num_classes)\n",
        "        )\n",
        "\n",
        "    def forward(self, img):\n",
        "        x = self.to_patch_embedding(img)\n",
        "        b, n, _ = x.shape\n",
        "\n",
        "        cls_tokens = repeat(self.cls_token, '1 1 d -> b 1 d', b = b)\n",
        "        x = torch.cat((cls_tokens, x), dim=1)\n",
        "        x += self.pos_embedding[:, :(n + 1)]\n",
        "        x = self.dropout(x)\n",
        "        print(x.shape)\n",
        "        x = self.transformer(x)\n",
        "\n",
        "        x = x.mean(dim = 1) if self.pool == 'mean' else x[:, 0]\n",
        "\n",
        "        x = self.to_latent(x)\n",
        "        return self.mlp_head(x)"
      ]
    },
    {
      "cell_type": "code",
      "source": [
        "v = ViT(\n",
        "    image_size = 256,\n",
        "    patch_size = 32,\n",
        "    num_classes = 1000,\n",
        "    dim = 1024,\n",
        "    depth = 6,\n",
        "    heads = 8,\n",
        "    mlp_dim = 2048,\n",
        "    dropout = 0.1,\n",
        "    emb_dropout = 0.1\n",
        ")\n",
        "\n",
        "img = torch.randn(1, 3, 256, 256)\n",
        "\n",
        "preds = v(img) # (1, 1000)"
      ],
      "metadata": {
        "colab": {
          "base_uri": "https://localhost:8080/"
        },
        "id": "87-fy0Zj1A82",
        "outputId": "f2facc36-ce73-45b5-817a-2b3da04a5181"
      },
      "execution_count": null,
      "outputs": [
        {
          "output_type": "stream",
          "name": "stdout",
          "text": [
            "torch.Size([1, 65, 1024])\n",
            "q.shape torch.Size([1, 8, 65, 64])\n",
            "q.shape torch.Size([1, 8, 65, 64])\n",
            "q.shape torch.Size([1, 8, 65, 64])\n",
            "q.shape torch.Size([1, 8, 65, 64])\n",
            "q.shape torch.Size([1, 8, 65, 64])\n",
            "q.shape torch.Size([1, 8, 65, 64])\n"
          ]
        }
      ]
    }
  ]
}