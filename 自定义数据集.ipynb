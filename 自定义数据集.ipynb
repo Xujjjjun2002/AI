{
  "nbformat": 4,
  "nbformat_minor": 0,
  "metadata": {
    "colab": {
      "provenance": [],
      "authorship_tag": "ABX9TyOn1lRphbRltjK76SH7BDs+",
      "include_colab_link": true
    },
    "kernelspec": {
      "name": "python3",
      "display_name": "Python 3"
    },
    "language_info": {
      "name": "python"
    }
  },
  "cells": [
    {
      "cell_type": "markdown",
      "metadata": {
        "id": "view-in-github",
        "colab_type": "text"
      },
      "source": [
        "<a href=\"https://colab.research.google.com/github/Xujjjjun2002/AI/blob/main/%E8%87%AA%E5%AE%9A%E4%B9%89%E6%95%B0%E6%8D%AE%E9%9B%86.ipynb\" target=\"_parent\"><img src=\"https://colab.research.google.com/assets/colab-badge.svg\" alt=\"Open In Colab\"/></a>"
      ]
    },
    {
      "cell_type": "code",
      "execution_count": null,
      "metadata": {
        "id": "Lz_QZ7pyRm8C"
      },
      "outputs": [],
      "source": [
        "import torch\n",
        "from torchvision import transforms\n",
        "from PIL import Image\n",
        "import os,glob\n",
        "import random,csv\n",
        "from torch.utils.data import Dataset"
      ]
    },
    {
      "cell_type": "markdown",
      "source": [
        "Resize"
      ],
      "metadata": {
        "id": "UhUBB66CXhMv"
      }
    },
    {
      "cell_type": "markdown",
      "source": [
        "Data Argumentation\n",
        "(Rotate Crop)"
      ],
      "metadata": {
        "id": "UC6fnGztXsiw"
      }
    },
    {
      "cell_type": "markdown",
      "source": [
        "Normalize"
      ],
      "metadata": {
        "id": "bb6f76aYXvo_"
      }
    },
    {
      "cell_type": "markdown",
      "source": [
        "ToTensor"
      ],
      "metadata": {
        "id": "Lgu3nls_XxhK"
      }
    },
    {
      "cell_type": "code",
      "source": [
        "class Cells_Data(Dataset):\n",
        "  def __init__(self,root,resize,mode):\n",
        "    super(Cells_Data,self).__init__()\n",
        "\n",
        "    self.root = root\n",
        "    self.resize = resize\n",
        "\n",
        "    self.name2label = {}\n",
        "    for name in sorted(os.listdir(os.path.join(root))):\n",
        "      if not os.path.isdir(os.path.join(root,name)):\n",
        "        continue\n",
        "\n",
        "      self.name2label[name] = len(self.name2label.keys())\n",
        "\n",
        "    print(self.name2label)\n",
        "\n",
        "    #对象->(image,label)\n",
        "\n",
        "    self.images,self.labels = self.load_csv('images.csv')\n",
        "\n",
        "    if mode == 'train':\n",
        "      self.images = self.images[:int(0.6*len(self.images))]\n",
        "      self.labels = self.labels[:int(0.6*len(self.labels))]\n",
        "    elif mode == 'val':\n",
        "      self.images = self.images[int(0.6*len(self.images)):int(0.8*len(self.images))]\n",
        "      self.labels = self.labels[int(0.6*len(self.labels)):int(0.8*len(self.labels))]\n",
        "    else:\n",
        "      self.images = self.images[int(0.8*len(self.images)):]\n",
        "      self.labels = self.labels[int(0.8*len(self.labels)):]\n",
        "\n",
        "  def load_csv(self,filename):\n",
        "    if not os.path.exist(os.path.join(self.root,filename)):\n",
        "      images = []\n",
        "      for name in self.name2label.keys():\n",
        "        images += glob.glob(os.path.join(self.root,name,'*.png'))\n",
        "        images += glob.glob(os.path.join(self.root,name,'*.jpg'))\n",
        "        images += glob.glob(os.path.join(self.root,name,'*.jpeg'))\n",
        "\n",
        "      #glob函数的用法：返回路径下所有文件格式为png(jpg)的文件的路径，添加到images中去\n",
        "\n",
        "      print(\"len(images)=\",len(images))\n",
        "\n",
        "      random.shuffle(images)\n",
        "      with open(os.path.join(self.root,filename),mode='w',newline='') as f:\n",
        "        writer = csv.writer(f)\n",
        "        for img in images:\n",
        "          name = img.split(os.sep)[-2]\n",
        "          label = self.name2label[name]\n",
        "          writer.writerow([img,label])\n",
        "        print('write into csv file')\n",
        "\n",
        "    images,labels = [],[]\n",
        "    with open(os.path.join(self.root,filename)) as f:\n",
        "      reader = csv.reader(f)\n",
        "      for row in reader:\n",
        "        img,label = row\n",
        "        label = int(label)\n",
        "\n",
        "        images.append(img)\n",
        "        labels.append(label)\n",
        "\n",
        "    assert len(images) == len(labels)\n",
        "\n",
        "    return images,labels\n",
        "\n",
        "  def __len__(self):\n",
        "    return len(self.images)\n",
        "\n",
        "  def __getitem(self,idx):\n",
        "    #idx-[0-len(images)]\n",
        "    #self.images,self.labels\n",
        "    img,label = self.images[idx],self.labels[idx]\n",
        "\n",
        "    tf = transforms.Compose([\n",
        "        lambda x:Image.open(x).convert('RGB'),\n",
        "        transforms.Resize((self.resize,self.resize)),\n",
        "        transforms.ToTensor()\n",
        "    ])\n",
        "\n",
        "    img = tf(img)\n",
        "    label = torch.tensor(label)\n",
        "\n",
        "    return img,label\n"
      ],
      "metadata": {
        "id": "3dYQAoOTX44R"
      },
      "execution_count": null,
      "outputs": []
    },
    {
      "cell_type": "code",
      "source": [
        "def main():\n",
        "  import visdom\n",
        "  import time\n",
        "\n",
        "  viz = visdom.Visdom()\n",
        "  db = Cells_Data('/home/xujun/desk_top/task1/data',299,'train')\n",
        "  x,y = next(iter(db))\n",
        "  print('sample:',x.shape,y.shape)"
      ],
      "metadata": {
        "id": "lzNtHoQ5b98Y"
      },
      "execution_count": null,
      "outputs": []
    },
    {
      "cell_type": "markdown",
      "source": [],
      "metadata": {
        "id": "3u1LV6k8u25q"
      }
    },
    {
      "cell_type": "code",
      "source": [
        "if __name__ == '__main__':\n",
        "  main()"
      ],
      "metadata": {
        "id": "675OM1tMXvSH"
      },
      "execution_count": null,
      "outputs": []
    }
  ]
}